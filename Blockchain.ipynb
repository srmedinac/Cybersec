{
 "cells": [
  {
   "cell_type": "markdown",
   "metadata": {},
   "source": [
    "# Blockchain Implementation"
   ]
  },
  {
   "cell_type": "markdown",
   "metadata": {},
   "source": [
    "### Sebastián Medina Carrillo & Cristian Camilo Lozano Jojoa\n",
    "### Cybersecurity, Universidad Nacional de Colombia\n",
    "A simple blockchain implementation with a client, miner and blockchain"
   ]
  },
  {
   "cell_type": "markdown",
   "metadata": {},
   "source": [
    "### Creating the client that will generate transactions"
   ]
  },
  {
   "cell_type": "code",
   "execution_count": 89,
   "metadata": {},
   "outputs": [],
   "source": [
    "import hashlib\n",
    "import random\n",
    "import string\n",
    "import json\n",
    "import binascii\n",
    "import numpy as np\n",
    "import pandas as pd\n",
    "import pylab as pl\n",
    "import logging\n",
    "import datetime\n",
    "import collections\n",
    "import Crypto\n",
    "import Crypto.Random\n",
    "from Crypto.Hash import SHA\n",
    "from Crypto.PublicKey import RSA\n",
    "from Crypto.Signature import PKCS1_v1_5"
   ]
  },
  {
   "cell_type": "markdown",
   "metadata": {},
   "source": [
    "## Creating the Client Class"
   ]
  },
  {
   "cell_type": "code",
   "execution_count": 2,
   "metadata": {},
   "outputs": [],
   "source": [
    "class Client:\n",
    "    def __init__(self):\n",
    "        random = Crypto.Random.new().read\n",
    "        self._private_key = RSA.generate(1024, random)\n",
    "        self._public_key = self._private_key.publickey()\n",
    "        self._signer  = PKCS1_v1_5.new(self._private_key)\n",
    "        \n",
    "    @property\n",
    "    def identity(self):\n",
    "        return binascii.hexlify(self._public_key.exportKey(format='DER')).decode('ascii')\n",
    "        "
   ]
  },
  {
   "cell_type": "markdown",
   "metadata": {},
   "source": [
    "Creating an instance of a client and checking its identity"
   ]
  },
  {
   "cell_type": "code",
   "execution_count": 3,
   "metadata": {},
   "outputs": [
    {
     "name": "stdout",
     "output_type": "stream",
     "text": [
      "30819f300d06092a864886f70d010101050003818d0030818902818100c929443228e99d3d6b0f75e47f28ac4dec23d1942233eb420c1315eac4aff90e86d6fac3e64e28925420ba401d2cf66764ca98d5d2e912a83a6e9799177438452dc7f5ab01b9435d8922df7bc3caa09365a06ffda72c130d204618e3ca5f10ea8b844484891493ce0aae4284ae03f948eb3f33ec76217f1e10db729f20ae6c7f0203010001\n"
     ]
    }
   ],
   "source": [
    "client = Client()\n",
    "print(client.identity)"
   ]
  },
  {
   "cell_type": "markdown",
   "metadata": {},
   "source": [
    "### Creating a Transaction"
   ]
  },
  {
   "cell_type": "code",
   "execution_count": 4,
   "metadata": {},
   "outputs": [],
   "source": [
    "class Transaction:\n",
    "    def __init__(self, sender, recipient, value):\n",
    "        self.sender = sender\n",
    "        self.recipient = recipient\n",
    "        self.value = value\n",
    "        self.time = datetime.datetime.now()\n",
    "        \n",
    "    def to_dict(self):\n",
    "        if self.sender == \"Genesis\":\n",
    "            identity  = \"Genesis\"\n",
    "        else:\n",
    "            identity = self.sender.identity\n",
    "        \n",
    "        return collections.OrderedDict({\n",
    "            'sender': identity,\n",
    "            'recipient': self.recipient,\n",
    "            'value': self.value,\n",
    "            'time': self.time\n",
    "        })\n",
    "    \n",
    "    def sign_transaction(self):\n",
    "        private_key = self.sender._private_key\n",
    "        signer = PKCS1_v1_5.new(private_key)\n",
    "        h = SHA.new(str(self.to_dict()).encode('utf-8'))\n",
    "        return binascii.hexlify(signer.sign(h)).decode('ascii')\n",
    "        "
   ]
  },
  {
   "cell_type": "markdown",
   "metadata": {},
   "source": [
    "Testing the transaction Class"
   ]
  },
  {
   "cell_type": "code",
   "execution_count": 5,
   "metadata": {},
   "outputs": [
    {
     "name": "stdout",
     "output_type": "stream",
     "text": [
      "aec323c5b00fabc37b49f600eb6cac76ebf9146d56dcdd42248cc021f309e43f6c417f0dde7f6c760cb2de1f3713a83b8276025bac6cdb7d5a5c4520688270400ecde8514204f2c656896b248ab3fd2fa8cd4987ca6c030cfa30ad2cd66eb4478f34037dd3088d03ae908020ba15f569f9926aa7efaaabd025bde1af70557ac9\n"
     ]
    }
   ],
   "source": [
    "buyer = Client()\n",
    "seller = Client()\n",
    "\n",
    "transaction = Transaction(buyer,seller.identity,5.0)\n",
    "signature = transaction.sign_transaction()\n",
    "print(signature)"
   ]
  },
  {
   "cell_type": "markdown",
   "metadata": {},
   "source": [
    "### Creating a helper function that displays the transaction contents"
   ]
  },
  {
   "cell_type": "code",
   "execution_count": 6,
   "metadata": {},
   "outputs": [],
   "source": [
    "def display_transaction(transaction):\n",
    "    dict = transaction.to_dict()\n",
    "    print(\"Sender: \"+ dict[('sender')])\n",
    "    print(\"Recipient: \"+ dict[('recipient')])\n",
    "    print(\"Value: \"+ str(dict[('value')]))\n",
    "    print(\"Time: \"+ str(dict[('time')]))\n",
    "    print('----------------------')"
   ]
  },
  {
   "cell_type": "markdown",
   "metadata": {},
   "source": [
    "Creating a list that holds transactions in a queue"
   ]
  },
  {
   "cell_type": "code",
   "execution_count": 7,
   "metadata": {},
   "outputs": [],
   "source": [
    "transaction_queue = []"
   ]
  },
  {
   "cell_type": "markdown",
   "metadata": {},
   "source": [
    "### Creating a few clients that will send and receive crypto"
   ]
  },
  {
   "cell_type": "code",
   "execution_count": 8,
   "metadata": {},
   "outputs": [],
   "source": [
    "alan = Client()\n",
    "dennis = Client()\n",
    "ken = Client()\n",
    "ada = Client()"
   ]
  },
  {
   "cell_type": "markdown",
   "metadata": {},
   "source": [
    "### Creating a few transactions between clients"
   ]
  },
  {
   "cell_type": "code",
   "execution_count": 9,
   "metadata": {},
   "outputs": [],
   "source": [
    "t1 = Transaction(alan,dennis.identity,15.0)\n",
    "t1.sign_transaction()\n",
    "transaction_queue.append(t1)\n",
    "t2 = Transaction(dennis,ken.identity,10.0)\n",
    "t2.sign_transaction()\n",
    "transaction_queue.append(t2)\n",
    "t3 = Transaction(ken,ada.identity,5.0)\n",
    "t3.sign_transaction()\n",
    "transaction_queue.append(t3)\n",
    "t4 = Transaction(ada,alan.identity,3.0)\n",
    "t4.sign_transaction()\n",
    "transaction_queue.append(t4)\n"
   ]
  },
  {
   "cell_type": "markdown",
   "metadata": {},
   "source": [
    "### Making a helper function that shows all transaction contents in the queue"
   ]
  },
  {
   "cell_type": "code",
   "execution_count": 10,
   "metadata": {},
   "outputs": [],
   "source": [
    "def display_all(transaction_q):\n",
    "    for transaction in transaction_q:\n",
    "        display_transaction(transaction)\n",
    "        print('----------------------')"
   ]
  },
  {
   "cell_type": "code",
   "execution_count": 11,
   "metadata": {},
   "outputs": [
    {
     "name": "stdout",
     "output_type": "stream",
     "text": [
      "Sender: 30819f300d06092a864886f70d010101050003818d0030818902818100f531da91cd68da6cb5338cc28df104cd5ec7cb546ce8d29e02258e729c412174de866d4063e0ff9a5e0b37b844e1d1072b2dac7db8f2bcdd8e5905d828b80bc1f4e624f53f40b56d847309cb88788f19819d53bf4cbc944943388fec0797eddf01c4dd72c83b02e7b9325132d3befed7ef0871135b9bf02cb79e90736264f3e90203010001\n",
      "Recipient: 30819f300d06092a864886f70d010101050003818d0030818902818100b31484ceceee80cf1d7b0b5f6af61e6721f065a9d5a6ca3f437e29c41ac6b7c846547b329a6ba1680e4dc4c4dc1d2c5bb9b5864a0607a3c5bba1374d48f844e96b5f60fdab86cdfa76ef39f4254b4a2a900a97e4ede4799a38c2633c61b27ed1c3c6ae741ca72498f32cac5c3e7e3d64bd3c6bc19099055af6fda43440120e6f0203010001\n",
      "Value: 15.0\n",
      "Time: 2019-07-17 20:19:43.554336\n",
      "----------------------\n",
      "----------------------\n",
      "Sender: 30819f300d06092a864886f70d010101050003818d0030818902818100b31484ceceee80cf1d7b0b5f6af61e6721f065a9d5a6ca3f437e29c41ac6b7c846547b329a6ba1680e4dc4c4dc1d2c5bb9b5864a0607a3c5bba1374d48f844e96b5f60fdab86cdfa76ef39f4254b4a2a900a97e4ede4799a38c2633c61b27ed1c3c6ae741ca72498f32cac5c3e7e3d64bd3c6bc19099055af6fda43440120e6f0203010001\n",
      "Recipient: 30819f300d06092a864886f70d010101050003818d00308189028181009e174a913f132c171fbf53771f02fecc9e61e53107a442d5fa979e427ee26cc87b1772b9b82291178301d0349a95a25f002289d46cddc1d14510243ff454f6a0213ade42551297fa5c6acd650a00d9cd3b6e2bb4213f2326bfd19469a11a8bb7e72f873a2f7f266bf175795343a1154e6e2cac7e8d7aba5d1a072bf1dae08a5d0203010001\n",
      "Value: 10.0\n",
      "Time: 2019-07-17 20:19:43.557089\n",
      "----------------------\n",
      "----------------------\n",
      "Sender: 30819f300d06092a864886f70d010101050003818d00308189028181009e174a913f132c171fbf53771f02fecc9e61e53107a442d5fa979e427ee26cc87b1772b9b82291178301d0349a95a25f002289d46cddc1d14510243ff454f6a0213ade42551297fa5c6acd650a00d9cd3b6e2bb4213f2326bfd19469a11a8bb7e72f873a2f7f266bf175795343a1154e6e2cac7e8d7aba5d1a072bf1dae08a5d0203010001\n",
      "Recipient: 30819f300d06092a864886f70d010101050003818d0030818902818100a473c00d5084fd9c30143f2f411f612642f93f8932c9df8252c7eadcde62c1f7965ffb44c8862750f93cd46b96be81d4850071be1199c0823e3ad921b246ba54bdb2517ca03611e51b33536cf499f4cead2b0c0a052fe4f16df8a7f2f8f4cd2e0926603f8b3d0d2669d2e16ce6c3ce4457a0a8f88bc20937682edca909524c650203010001\n",
      "Value: 5.0\n",
      "Time: 2019-07-17 20:19:43.559854\n",
      "----------------------\n",
      "----------------------\n",
      "Sender: 30819f300d06092a864886f70d010101050003818d0030818902818100a473c00d5084fd9c30143f2f411f612642f93f8932c9df8252c7eadcde62c1f7965ffb44c8862750f93cd46b96be81d4850071be1199c0823e3ad921b246ba54bdb2517ca03611e51b33536cf499f4cead2b0c0a052fe4f16df8a7f2f8f4cd2e0926603f8b3d0d2669d2e16ce6c3ce4457a0a8f88bc20937682edca909524c650203010001\n",
      "Recipient: 30819f300d06092a864886f70d010101050003818d0030818902818100f531da91cd68da6cb5338cc28df104cd5ec7cb546ce8d29e02258e729c412174de866d4063e0ff9a5e0b37b844e1d1072b2dac7db8f2bcdd8e5905d828b80bc1f4e624f53f40b56d847309cb88788f19819d53bf4cbc944943388fec0797eddf01c4dd72c83b02e7b9325132d3befed7ef0871135b9bf02cb79e90736264f3e90203010001\n",
      "Value: 3.0\n",
      "Time: 2019-07-17 20:19:43.562464\n",
      "----------------------\n",
      "----------------------\n"
     ]
    }
   ],
   "source": [
    "display_all(transaction_queue)"
   ]
  },
  {
   "cell_type": "markdown",
   "metadata": {},
   "source": [
    "## Defining the Block Class"
   ]
  },
  {
   "cell_type": "code",
   "execution_count": 12,
   "metadata": {},
   "outputs": [],
   "source": [
    "class Block:\n",
    "    def __init__(self):\n",
    "        self.verified_transactions = []\n",
    "        self.previous_block_hash = \"\"\n",
    "        self.Nonce = \"\"\n",
    "    "
   ]
  },
  {
   "cell_type": "markdown",
   "metadata": {},
   "source": [
    "Creating a global variable with the last hash so that all blocks know"
   ]
  },
  {
   "cell_type": "code",
   "execution_count": 13,
   "metadata": {},
   "outputs": [],
   "source": [
    "last_block_hash = \"\""
   ]
  },
  {
   "cell_type": "markdown",
   "metadata": {},
   "source": [
    "### Generating the Genesis Block"
   ]
  },
  {
   "cell_type": "code",
   "execution_count": 18,
   "metadata": {},
   "outputs": [],
   "source": [
    "god = Client()\n",
    "t0 = Transaction(\"Genesis\",god.identity,1000.0)\n",
    "block0 = Block()\n",
    "block0.previous_block_hash = None\n",
    "Nonce = None\n",
    "block0.verified_transactions.append(t0)"
   ]
  },
  {
   "cell_type": "markdown",
   "metadata": {},
   "source": [
    "### Calculating the block's digest and storing it to \"last_block_hash\""
   ]
  },
  {
   "cell_type": "code",
   "execution_count": 19,
   "metadata": {},
   "outputs": [],
   "source": [
    "digest = hash(block0)\n",
    "last_block_hash = digest"
   ]
  },
  {
   "cell_type": "markdown",
   "metadata": {},
   "source": [
    "## Creating our Cryptocurrency: Cybercoin"
   ]
  },
  {
   "cell_type": "code",
   "execution_count": 20,
   "metadata": {},
   "outputs": [],
   "source": [
    "Cybercoin = []"
   ]
  },
  {
   "cell_type": "markdown",
   "metadata": {},
   "source": [
    "### Creating a helper function that shows the whole blockchain"
   ]
  },
  {
   "cell_type": "code",
   "execution_count": 23,
   "metadata": {},
   "outputs": [],
   "source": [
    "def show_blockchain(self):\n",
    "    print(\"Numer of blocks in the chain: \" + str(len(self)))\n",
    "    for i in range(len(Cybercoin)):\n",
    "        block_temp = Cybercoin[i]\n",
    "        print(\"Block # \" + str(i))\n",
    "        for transaction in block_temp.verified_transactions:\n",
    "            display_transaction(transaction)\n",
    "            print('---------------------------')\n",
    "        print(\"==============================\")"
   ]
  },
  {
   "cell_type": "markdown",
   "metadata": {},
   "source": [
    "### Adding the Genesis block to the Blockchain"
   ]
  },
  {
   "cell_type": "code",
   "execution_count": 24,
   "metadata": {},
   "outputs": [
    {
     "name": "stdout",
     "output_type": "stream",
     "text": [
      "Numer of blocks in the chain: 1\n",
      "Block # 0\n",
      "Sender: Genesis\n",
      "Recipient: 30819f300d06092a864886f70d010101050003818d0030818902818100c09c39752809943457c1cf4c6af15aae73f05efd416a52dc24442f410513a1c634a7688eb6cd3203dfd7a12ec82f97b021696fa181ff58cdc9680eb5f30b3582984097ef18fc181ef6d2009faad9557fea363951af2395109539070a9fbf538a591df8e96ed234a59ad360ae658d83cef14f40433bac8e41af0367c2e8b18db50203010001\n",
      "Value: 1000.0\n",
      "Time: 2019-07-17 20:28:40.018259\n",
      "----------------------\n",
      "---------------------------\n",
      "==============================\n"
     ]
    }
   ],
   "source": [
    "Cybercoin.append(block0)\n",
    "show_blockchain(Cybercoin)"
   ]
  },
  {
   "cell_type": "markdown",
   "metadata": {},
   "source": [
    "## Creating Miners, the Mining Function and Proof-of-Work"
   ]
  },
  {
   "cell_type": "markdown",
   "metadata": {},
   "source": [
    "### Creating a helper function that generates a digest on a message"
   ]
  },
  {
   "cell_type": "code",
   "execution_count": 25,
   "metadata": {},
   "outputs": [],
   "source": [
    "def sha256(msg):\n",
    "    return hashlib.sha256(msg.encode('ascii')).hexdigest()"
   ]
  },
  {
   "cell_type": "markdown",
   "metadata": {},
   "source": [
    "### Creating the mining function"
   ]
  },
  {
   "cell_type": "code",
   "execution_count": 50,
   "metadata": {},
   "outputs": [],
   "source": [
    "def mine(msg, difficulty):\n",
    "    assert difficulty >= 1\n",
    "    found = False\n",
    "    prefix = '1' * difficulty\n",
    "    i = 0\n",
    "    while found == False:\n",
    "        i += 1\n",
    "        digest = sha256(str(hash(msg)) + str(i))\n",
    "        if digest.startswith(prefix):\n",
    "            found = True\n",
    "            print(\"Found Nonce: \" + digest + \", after \" + str(i) + \" iterations.\")\n",
    "            return digest"
   ]
  },
  {
   "cell_type": "code",
   "execution_count": 55,
   "metadata": {},
   "outputs": [
    {
     "name": "stdout",
     "output_type": "stream",
     "text": [
      "Found Nonce: 11111c5650e7df74d112fe8239e8b3327c70ad77e564ddba527106720aad7b02, after 239430 iterations.\n"
     ]
    },
    {
     "data": {
      "text/plain": [
       "'11111c5650e7df74d112fe8239e8b3327c70ad77e564ddba527106720aad7b02'"
      ]
     },
     "execution_count": 55,
     "metadata": {},
     "output_type": "execute_result"
    }
   ],
   "source": [
    "mine(\"This is a test\", 5)"
   ]
  },
  {
   "cell_type": "markdown",
   "metadata": {},
   "source": [
    "### Adding a new Block to the Blockchain"
   ]
  },
  {
   "cell_type": "code",
   "execution_count": 57,
   "metadata": {},
   "outputs": [
    {
     "name": "stdout",
     "output_type": "stream",
     "text": [
      "Found Nonce: 11cdefa6a17ce2d6bb3a66ba14d2a88972a2cb31c68cd2b71252fd87ab33fac1, after 514 iterations.\n"
     ]
    }
   ],
   "source": [
    "last_transaction_index = 0\n",
    "block = Block()\n",
    "for i in range(3):\n",
    "    temp_transaction = transaction_queue[last_transaction_index]\n",
    "    block.verified_transactions.append(temp_transaction)\n",
    "    last_transaction_index += 1\n",
    "\n",
    "block.previous_block_hash = last_block_hash\n",
    "block.Nonce = mine(block,2)\n",
    "digest = hash(block)\n",
    "Cybercoin.append(block)\n",
    "last_block_hash = digest"
   ]
  },
  {
   "cell_type": "markdown",
   "metadata": {},
   "source": [
    "### Showing the whole Blockchain"
   ]
  },
  {
   "cell_type": "code",
   "execution_count": 58,
   "metadata": {},
   "outputs": [
    {
     "name": "stdout",
     "output_type": "stream",
     "text": [
      "Numer of blocks in the chain: 2\n",
      "Block # 0\n",
      "Sender: Genesis\n",
      "Recipient: 30819f300d06092a864886f70d010101050003818d0030818902818100c09c39752809943457c1cf4c6af15aae73f05efd416a52dc24442f410513a1c634a7688eb6cd3203dfd7a12ec82f97b021696fa181ff58cdc9680eb5f30b3582984097ef18fc181ef6d2009faad9557fea363951af2395109539070a9fbf538a591df8e96ed234a59ad360ae658d83cef14f40433bac8e41af0367c2e8b18db50203010001\n",
      "Value: 1000.0\n",
      "Time: 2019-07-17 20:28:40.018259\n",
      "----------------------\n",
      "---------------------------\n",
      "==============================\n",
      "Block # 1\n",
      "Sender: 30819f300d06092a864886f70d010101050003818d0030818902818100f531da91cd68da6cb5338cc28df104cd5ec7cb546ce8d29e02258e729c412174de866d4063e0ff9a5e0b37b844e1d1072b2dac7db8f2bcdd8e5905d828b80bc1f4e624f53f40b56d847309cb88788f19819d53bf4cbc944943388fec0797eddf01c4dd72c83b02e7b9325132d3befed7ef0871135b9bf02cb79e90736264f3e90203010001\n",
      "Recipient: 30819f300d06092a864886f70d010101050003818d0030818902818100b31484ceceee80cf1d7b0b5f6af61e6721f065a9d5a6ca3f437e29c41ac6b7c846547b329a6ba1680e4dc4c4dc1d2c5bb9b5864a0607a3c5bba1374d48f844e96b5f60fdab86cdfa76ef39f4254b4a2a900a97e4ede4799a38c2633c61b27ed1c3c6ae741ca72498f32cac5c3e7e3d64bd3c6bc19099055af6fda43440120e6f0203010001\n",
      "Value: 15.0\n",
      "Time: 2019-07-17 20:19:43.554336\n",
      "----------------------\n",
      "---------------------------\n",
      "Sender: 30819f300d06092a864886f70d010101050003818d0030818902818100b31484ceceee80cf1d7b0b5f6af61e6721f065a9d5a6ca3f437e29c41ac6b7c846547b329a6ba1680e4dc4c4dc1d2c5bb9b5864a0607a3c5bba1374d48f844e96b5f60fdab86cdfa76ef39f4254b4a2a900a97e4ede4799a38c2633c61b27ed1c3c6ae741ca72498f32cac5c3e7e3d64bd3c6bc19099055af6fda43440120e6f0203010001\n",
      "Recipient: 30819f300d06092a864886f70d010101050003818d00308189028181009e174a913f132c171fbf53771f02fecc9e61e53107a442d5fa979e427ee26cc87b1772b9b82291178301d0349a95a25f002289d46cddc1d14510243ff454f6a0213ade42551297fa5c6acd650a00d9cd3b6e2bb4213f2326bfd19469a11a8bb7e72f873a2f7f266bf175795343a1154e6e2cac7e8d7aba5d1a072bf1dae08a5d0203010001\n",
      "Value: 10.0\n",
      "Time: 2019-07-17 20:19:43.557089\n",
      "----------------------\n",
      "---------------------------\n",
      "Sender: 30819f300d06092a864886f70d010101050003818d00308189028181009e174a913f132c171fbf53771f02fecc9e61e53107a442d5fa979e427ee26cc87b1772b9b82291178301d0349a95a25f002289d46cddc1d14510243ff454f6a0213ade42551297fa5c6acd650a00d9cd3b6e2bb4213f2326bfd19469a11a8bb7e72f873a2f7f266bf175795343a1154e6e2cac7e8d7aba5d1a072bf1dae08a5d0203010001\n",
      "Recipient: 30819f300d06092a864886f70d010101050003818d0030818902818100a473c00d5084fd9c30143f2f411f612642f93f8932c9df8252c7eadcde62c1f7965ffb44c8862750f93cd46b96be81d4850071be1199c0823e3ad921b246ba54bdb2517ca03611e51b33536cf499f4cead2b0c0a052fe4f16df8a7f2f8f4cd2e0926603f8b3d0d2669d2e16ce6c3ce4457a0a8f88bc20937682edca909524c650203010001\n",
      "Value: 5.0\n",
      "Time: 2019-07-17 20:19:43.559854\n",
      "----------------------\n",
      "---------------------------\n",
      "==============================\n"
     ]
    }
   ],
   "source": [
    "show_blockchain(Cybercoin)"
   ]
  },
  {
   "cell_type": "markdown",
   "metadata": {},
   "source": [
    "### Creating more transactions, and adding them to the queue"
   ]
  },
  {
   "cell_type": "code",
   "execution_count": 60,
   "metadata": {},
   "outputs": [],
   "source": [
    "t5 = Transaction(ken,dennis.identity,25.0)\n",
    "t5.sign_transaction()\n",
    "transaction_queue.append(t5)\n",
    "t6 = Transaction(ken,ada.identity,9.0)\n",
    "t6.sign_transaction()\n",
    "transaction_queue.append(t6)\n",
    "t7 = Transaction(ada,alan.identity,13.0)\n",
    "t7.sign_transaction()\n",
    "transaction_queue.append(t7)"
   ]
  },
  {
   "cell_type": "code",
   "execution_count": 68,
   "metadata": {},
   "outputs": [
    {
     "name": "stdout",
     "output_type": "stream",
     "text": [
      "7\n",
      "Sender: 30819f300d06092a864886f70d010101050003818d0030818902818100f531da91cd68da6cb5338cc28df104cd5ec7cb546ce8d29e02258e729c412174de866d4063e0ff9a5e0b37b844e1d1072b2dac7db8f2bcdd8e5905d828b80bc1f4e624f53f40b56d847309cb88788f19819d53bf4cbc944943388fec0797eddf01c4dd72c83b02e7b9325132d3befed7ef0871135b9bf02cb79e90736264f3e90203010001\n",
      "Recipient: 30819f300d06092a864886f70d010101050003818d0030818902818100b31484ceceee80cf1d7b0b5f6af61e6721f065a9d5a6ca3f437e29c41ac6b7c846547b329a6ba1680e4dc4c4dc1d2c5bb9b5864a0607a3c5bba1374d48f844e96b5f60fdab86cdfa76ef39f4254b4a2a900a97e4ede4799a38c2633c61b27ed1c3c6ae741ca72498f32cac5c3e7e3d64bd3c6bc19099055af6fda43440120e6f0203010001\n",
      "Value: 15.0\n",
      "Time: 2019-07-17 20:19:43.554336\n",
      "----------------------\n",
      "----------------------\n",
      "Sender: 30819f300d06092a864886f70d010101050003818d0030818902818100b31484ceceee80cf1d7b0b5f6af61e6721f065a9d5a6ca3f437e29c41ac6b7c846547b329a6ba1680e4dc4c4dc1d2c5bb9b5864a0607a3c5bba1374d48f844e96b5f60fdab86cdfa76ef39f4254b4a2a900a97e4ede4799a38c2633c61b27ed1c3c6ae741ca72498f32cac5c3e7e3d64bd3c6bc19099055af6fda43440120e6f0203010001\n",
      "Recipient: 30819f300d06092a864886f70d010101050003818d00308189028181009e174a913f132c171fbf53771f02fecc9e61e53107a442d5fa979e427ee26cc87b1772b9b82291178301d0349a95a25f002289d46cddc1d14510243ff454f6a0213ade42551297fa5c6acd650a00d9cd3b6e2bb4213f2326bfd19469a11a8bb7e72f873a2f7f266bf175795343a1154e6e2cac7e8d7aba5d1a072bf1dae08a5d0203010001\n",
      "Value: 10.0\n",
      "Time: 2019-07-17 20:19:43.557089\n",
      "----------------------\n",
      "----------------------\n",
      "Sender: 30819f300d06092a864886f70d010101050003818d00308189028181009e174a913f132c171fbf53771f02fecc9e61e53107a442d5fa979e427ee26cc87b1772b9b82291178301d0349a95a25f002289d46cddc1d14510243ff454f6a0213ade42551297fa5c6acd650a00d9cd3b6e2bb4213f2326bfd19469a11a8bb7e72f873a2f7f266bf175795343a1154e6e2cac7e8d7aba5d1a072bf1dae08a5d0203010001\n",
      "Recipient: 30819f300d06092a864886f70d010101050003818d0030818902818100a473c00d5084fd9c30143f2f411f612642f93f8932c9df8252c7eadcde62c1f7965ffb44c8862750f93cd46b96be81d4850071be1199c0823e3ad921b246ba54bdb2517ca03611e51b33536cf499f4cead2b0c0a052fe4f16df8a7f2f8f4cd2e0926603f8b3d0d2669d2e16ce6c3ce4457a0a8f88bc20937682edca909524c650203010001\n",
      "Value: 5.0\n",
      "Time: 2019-07-17 20:19:43.559854\n",
      "----------------------\n",
      "----------------------\n",
      "Sender: 30819f300d06092a864886f70d010101050003818d0030818902818100a473c00d5084fd9c30143f2f411f612642f93f8932c9df8252c7eadcde62c1f7965ffb44c8862750f93cd46b96be81d4850071be1199c0823e3ad921b246ba54bdb2517ca03611e51b33536cf499f4cead2b0c0a052fe4f16df8a7f2f8f4cd2e0926603f8b3d0d2669d2e16ce6c3ce4457a0a8f88bc20937682edca909524c650203010001\n",
      "Recipient: 30819f300d06092a864886f70d010101050003818d0030818902818100f531da91cd68da6cb5338cc28df104cd5ec7cb546ce8d29e02258e729c412174de866d4063e0ff9a5e0b37b844e1d1072b2dac7db8f2bcdd8e5905d828b80bc1f4e624f53f40b56d847309cb88788f19819d53bf4cbc944943388fec0797eddf01c4dd72c83b02e7b9325132d3befed7ef0871135b9bf02cb79e90736264f3e90203010001\n",
      "Value: 3.0\n",
      "Time: 2019-07-17 20:19:43.562464\n",
      "----------------------\n",
      "----------------------\n",
      "Sender: 30819f300d06092a864886f70d010101050003818d00308189028181009e174a913f132c171fbf53771f02fecc9e61e53107a442d5fa979e427ee26cc87b1772b9b82291178301d0349a95a25f002289d46cddc1d14510243ff454f6a0213ade42551297fa5c6acd650a00d9cd3b6e2bb4213f2326bfd19469a11a8bb7e72f873a2f7f266bf175795343a1154e6e2cac7e8d7aba5d1a072bf1dae08a5d0203010001\n",
      "Recipient: 30819f300d06092a864886f70d010101050003818d0030818902818100b31484ceceee80cf1d7b0b5f6af61e6721f065a9d5a6ca3f437e29c41ac6b7c846547b329a6ba1680e4dc4c4dc1d2c5bb9b5864a0607a3c5bba1374d48f844e96b5f60fdab86cdfa76ef39f4254b4a2a900a97e4ede4799a38c2633c61b27ed1c3c6ae741ca72498f32cac5c3e7e3d64bd3c6bc19099055af6fda43440120e6f0203010001\n",
      "Value: 25.0\n",
      "Time: 2019-07-18 07:16:58.825305\n",
      "----------------------\n",
      "----------------------\n",
      "Sender: 30819f300d06092a864886f70d010101050003818d00308189028181009e174a913f132c171fbf53771f02fecc9e61e53107a442d5fa979e427ee26cc87b1772b9b82291178301d0349a95a25f002289d46cddc1d14510243ff454f6a0213ade42551297fa5c6acd650a00d9cd3b6e2bb4213f2326bfd19469a11a8bb7e72f873a2f7f266bf175795343a1154e6e2cac7e8d7aba5d1a072bf1dae08a5d0203010001\n",
      "Recipient: 30819f300d06092a864886f70d010101050003818d0030818902818100a473c00d5084fd9c30143f2f411f612642f93f8932c9df8252c7eadcde62c1f7965ffb44c8862750f93cd46b96be81d4850071be1199c0823e3ad921b246ba54bdb2517ca03611e51b33536cf499f4cead2b0c0a052fe4f16df8a7f2f8f4cd2e0926603f8b3d0d2669d2e16ce6c3ce4457a0a8f88bc20937682edca909524c650203010001\n",
      "Value: 9.0\n",
      "Time: 2019-07-18 07:16:58.828760\n",
      "----------------------\n",
      "----------------------\n",
      "Sender: 30819f300d06092a864886f70d010101050003818d0030818902818100a473c00d5084fd9c30143f2f411f612642f93f8932c9df8252c7eadcde62c1f7965ffb44c8862750f93cd46b96be81d4850071be1199c0823e3ad921b246ba54bdb2517ca03611e51b33536cf499f4cead2b0c0a052fe4f16df8a7f2f8f4cd2e0926603f8b3d0d2669d2e16ce6c3ce4457a0a8f88bc20937682edca909524c650203010001\n",
      "Recipient: 30819f300d06092a864886f70d010101050003818d0030818902818100f531da91cd68da6cb5338cc28df104cd5ec7cb546ce8d29e02258e729c412174de866d4063e0ff9a5e0b37b844e1d1072b2dac7db8f2bcdd8e5905d828b80bc1f4e624f53f40b56d847309cb88788f19819d53bf4cbc944943388fec0797eddf01c4dd72c83b02e7b9325132d3befed7ef0871135b9bf02cb79e90736264f3e90203010001\n",
      "Value: 13.0\n",
      "Time: 2019-07-18 07:16:58.832820\n",
      "----------------------\n",
      "----------------------\n"
     ]
    }
   ],
   "source": [
    "print(last_transaction_index)\n",
    "display_all(transaction_queue)"
   ]
  },
  {
   "cell_type": "code",
   "execution_count": 73,
   "metadata": {},
   "outputs": [
    {
     "name": "stdout",
     "output_type": "stream",
     "text": [
      "Found Nonce: 11f1762c4dde7ee125094451a0ff600539536f54213b40bb4e25762e0601756e, after 515 iterations.\n"
     ]
    }
   ],
   "source": [
    "block = Block()\n",
    "for i in range(4,7):\n",
    "    temp = transaction_queue[last_transaction_index]\n",
    "    block.verified_transactions.append(temp)\n",
    "    last_transaction_index += 1\n",
    "    \n",
    "block.previous_block_hash = last_block_hash\n",
    "block.Nonce = mine(block,2)\n",
    "digest = hash(block)\n",
    "Cybercoin.append(block)\n",
    "last_block_hash = digest"
   ]
  },
  {
   "cell_type": "code",
   "execution_count": 74,
   "metadata": {},
   "outputs": [
    {
     "name": "stdout",
     "output_type": "stream",
     "text": [
      "Numer of blocks in the chain: 5\n",
      "Block # 0\n",
      "Sender: Genesis\n",
      "Recipient: 30819f300d06092a864886f70d010101050003818d0030818902818100c09c39752809943457c1cf4c6af15aae73f05efd416a52dc24442f410513a1c634a7688eb6cd3203dfd7a12ec82f97b021696fa181ff58cdc9680eb5f30b3582984097ef18fc181ef6d2009faad9557fea363951af2395109539070a9fbf538a591df8e96ed234a59ad360ae658d83cef14f40433bac8e41af0367c2e8b18db50203010001\n",
      "Value: 1000.0\n",
      "Time: 2019-07-17 20:28:40.018259\n",
      "----------------------\n",
      "---------------------------\n",
      "==============================\n",
      "Block # 1\n",
      "Sender: 30819f300d06092a864886f70d010101050003818d0030818902818100f531da91cd68da6cb5338cc28df104cd5ec7cb546ce8d29e02258e729c412174de866d4063e0ff9a5e0b37b844e1d1072b2dac7db8f2bcdd8e5905d828b80bc1f4e624f53f40b56d847309cb88788f19819d53bf4cbc944943388fec0797eddf01c4dd72c83b02e7b9325132d3befed7ef0871135b9bf02cb79e90736264f3e90203010001\n",
      "Recipient: 30819f300d06092a864886f70d010101050003818d0030818902818100b31484ceceee80cf1d7b0b5f6af61e6721f065a9d5a6ca3f437e29c41ac6b7c846547b329a6ba1680e4dc4c4dc1d2c5bb9b5864a0607a3c5bba1374d48f844e96b5f60fdab86cdfa76ef39f4254b4a2a900a97e4ede4799a38c2633c61b27ed1c3c6ae741ca72498f32cac5c3e7e3d64bd3c6bc19099055af6fda43440120e6f0203010001\n",
      "Value: 15.0\n",
      "Time: 2019-07-17 20:19:43.554336\n",
      "----------------------\n",
      "---------------------------\n",
      "Sender: 30819f300d06092a864886f70d010101050003818d0030818902818100b31484ceceee80cf1d7b0b5f6af61e6721f065a9d5a6ca3f437e29c41ac6b7c846547b329a6ba1680e4dc4c4dc1d2c5bb9b5864a0607a3c5bba1374d48f844e96b5f60fdab86cdfa76ef39f4254b4a2a900a97e4ede4799a38c2633c61b27ed1c3c6ae741ca72498f32cac5c3e7e3d64bd3c6bc19099055af6fda43440120e6f0203010001\n",
      "Recipient: 30819f300d06092a864886f70d010101050003818d00308189028181009e174a913f132c171fbf53771f02fecc9e61e53107a442d5fa979e427ee26cc87b1772b9b82291178301d0349a95a25f002289d46cddc1d14510243ff454f6a0213ade42551297fa5c6acd650a00d9cd3b6e2bb4213f2326bfd19469a11a8bb7e72f873a2f7f266bf175795343a1154e6e2cac7e8d7aba5d1a072bf1dae08a5d0203010001\n",
      "Value: 10.0\n",
      "Time: 2019-07-17 20:19:43.557089\n",
      "----------------------\n",
      "---------------------------\n",
      "Sender: 30819f300d06092a864886f70d010101050003818d00308189028181009e174a913f132c171fbf53771f02fecc9e61e53107a442d5fa979e427ee26cc87b1772b9b82291178301d0349a95a25f002289d46cddc1d14510243ff454f6a0213ade42551297fa5c6acd650a00d9cd3b6e2bb4213f2326bfd19469a11a8bb7e72f873a2f7f266bf175795343a1154e6e2cac7e8d7aba5d1a072bf1dae08a5d0203010001\n",
      "Recipient: 30819f300d06092a864886f70d010101050003818d0030818902818100a473c00d5084fd9c30143f2f411f612642f93f8932c9df8252c7eadcde62c1f7965ffb44c8862750f93cd46b96be81d4850071be1199c0823e3ad921b246ba54bdb2517ca03611e51b33536cf499f4cead2b0c0a052fe4f16df8a7f2f8f4cd2e0926603f8b3d0d2669d2e16ce6c3ce4457a0a8f88bc20937682edca909524c650203010001\n",
      "Value: 5.0\n",
      "Time: 2019-07-17 20:19:43.559854\n",
      "----------------------\n",
      "---------------------------\n",
      "Sender: 30819f300d06092a864886f70d010101050003818d00308189028181009e174a913f132c171fbf53771f02fecc9e61e53107a442d5fa979e427ee26cc87b1772b9b82291178301d0349a95a25f002289d46cddc1d14510243ff454f6a0213ade42551297fa5c6acd650a00d9cd3b6e2bb4213f2326bfd19469a11a8bb7e72f873a2f7f266bf175795343a1154e6e2cac7e8d7aba5d1a072bf1dae08a5d0203010001\n",
      "Recipient: 30819f300d06092a864886f70d010101050003818d0030818902818100a473c00d5084fd9c30143f2f411f612642f93f8932c9df8252c7eadcde62c1f7965ffb44c8862750f93cd46b96be81d4850071be1199c0823e3ad921b246ba54bdb2517ca03611e51b33536cf499f4cead2b0c0a052fe4f16df8a7f2f8f4cd2e0926603f8b3d0d2669d2e16ce6c3ce4457a0a8f88bc20937682edca909524c650203010001\n",
      "Value: 5.0\n",
      "Time: 2019-07-17 20:19:43.559854\n",
      "----------------------\n",
      "---------------------------\n",
      "Sender: 30819f300d06092a864886f70d010101050003818d00308189028181009e174a913f132c171fbf53771f02fecc9e61e53107a442d5fa979e427ee26cc87b1772b9b82291178301d0349a95a25f002289d46cddc1d14510243ff454f6a0213ade42551297fa5c6acd650a00d9cd3b6e2bb4213f2326bfd19469a11a8bb7e72f873a2f7f266bf175795343a1154e6e2cac7e8d7aba5d1a072bf1dae08a5d0203010001\n",
      "Recipient: 30819f300d06092a864886f70d010101050003818d0030818902818100a473c00d5084fd9c30143f2f411f612642f93f8932c9df8252c7eadcde62c1f7965ffb44c8862750f93cd46b96be81d4850071be1199c0823e3ad921b246ba54bdb2517ca03611e51b33536cf499f4cead2b0c0a052fe4f16df8a7f2f8f4cd2e0926603f8b3d0d2669d2e16ce6c3ce4457a0a8f88bc20937682edca909524c650203010001\n",
      "Value: 5.0\n",
      "Time: 2019-07-17 20:19:43.559854\n",
      "----------------------\n",
      "---------------------------\n",
      "Sender: 30819f300d06092a864886f70d010101050003818d00308189028181009e174a913f132c171fbf53771f02fecc9e61e53107a442d5fa979e427ee26cc87b1772b9b82291178301d0349a95a25f002289d46cddc1d14510243ff454f6a0213ade42551297fa5c6acd650a00d9cd3b6e2bb4213f2326bfd19469a11a8bb7e72f873a2f7f266bf175795343a1154e6e2cac7e8d7aba5d1a072bf1dae08a5d0203010001\n",
      "Recipient: 30819f300d06092a864886f70d010101050003818d0030818902818100a473c00d5084fd9c30143f2f411f612642f93f8932c9df8252c7eadcde62c1f7965ffb44c8862750f93cd46b96be81d4850071be1199c0823e3ad921b246ba54bdb2517ca03611e51b33536cf499f4cead2b0c0a052fe4f16df8a7f2f8f4cd2e0926603f8b3d0d2669d2e16ce6c3ce4457a0a8f88bc20937682edca909524c650203010001\n",
      "Value: 5.0\n",
      "Time: 2019-07-17 20:19:43.559854\n",
      "----------------------\n",
      "---------------------------\n",
      "Sender: 30819f300d06092a864886f70d010101050003818d0030818902818100a473c00d5084fd9c30143f2f411f612642f93f8932c9df8252c7eadcde62c1f7965ffb44c8862750f93cd46b96be81d4850071be1199c0823e3ad921b246ba54bdb2517ca03611e51b33536cf499f4cead2b0c0a052fe4f16df8a7f2f8f4cd2e0926603f8b3d0d2669d2e16ce6c3ce4457a0a8f88bc20937682edca909524c650203010001\n",
      "Recipient: 30819f300d06092a864886f70d010101050003818d0030818902818100f531da91cd68da6cb5338cc28df104cd5ec7cb546ce8d29e02258e729c412174de866d4063e0ff9a5e0b37b844e1d1072b2dac7db8f2bcdd8e5905d828b80bc1f4e624f53f40b56d847309cb88788f19819d53bf4cbc944943388fec0797eddf01c4dd72c83b02e7b9325132d3befed7ef0871135b9bf02cb79e90736264f3e90203010001\n",
      "Value: 13.0\n",
      "Time: 2019-07-18 07:16:58.832820\n",
      "----------------------\n",
      "---------------------------\n",
      "==============================\n",
      "Block # 2\n",
      "==============================\n",
      "Block # 3\n",
      "Sender: 30819f300d06092a864886f70d010101050003818d00308189028181009e174a913f132c171fbf53771f02fecc9e61e53107a442d5fa979e427ee26cc87b1772b9b82291178301d0349a95a25f002289d46cddc1d14510243ff454f6a0213ade42551297fa5c6acd650a00d9cd3b6e2bb4213f2326bfd19469a11a8bb7e72f873a2f7f266bf175795343a1154e6e2cac7e8d7aba5d1a072bf1dae08a5d0203010001\n",
      "Recipient: 30819f300d06092a864886f70d010101050003818d0030818902818100b31484ceceee80cf1d7b0b5f6af61e6721f065a9d5a6ca3f437e29c41ac6b7c846547b329a6ba1680e4dc4c4dc1d2c5bb9b5864a0607a3c5bba1374d48f844e96b5f60fdab86cdfa76ef39f4254b4a2a900a97e4ede4799a38c2633c61b27ed1c3c6ae741ca72498f32cac5c3e7e3d64bd3c6bc19099055af6fda43440120e6f0203010001\n",
      "Value: 25.0\n",
      "Time: 2019-07-18 07:16:58.825305\n",
      "----------------------\n",
      "---------------------------\n",
      "Sender: 30819f300d06092a864886f70d010101050003818d00308189028181009e174a913f132c171fbf53771f02fecc9e61e53107a442d5fa979e427ee26cc87b1772b9b82291178301d0349a95a25f002289d46cddc1d14510243ff454f6a0213ade42551297fa5c6acd650a00d9cd3b6e2bb4213f2326bfd19469a11a8bb7e72f873a2f7f266bf175795343a1154e6e2cac7e8d7aba5d1a072bf1dae08a5d0203010001\n",
      "Recipient: 30819f300d06092a864886f70d010101050003818d0030818902818100b31484ceceee80cf1d7b0b5f6af61e6721f065a9d5a6ca3f437e29c41ac6b7c846547b329a6ba1680e4dc4c4dc1d2c5bb9b5864a0607a3c5bba1374d48f844e96b5f60fdab86cdfa76ef39f4254b4a2a900a97e4ede4799a38c2633c61b27ed1c3c6ae741ca72498f32cac5c3e7e3d64bd3c6bc19099055af6fda43440120e6f0203010001\n",
      "Value: 25.0\n",
      "Time: 2019-07-18 07:16:58.825305\n",
      "----------------------\n",
      "---------------------------\n",
      "Sender: 30819f300d06092a864886f70d010101050003818d00308189028181009e174a913f132c171fbf53771f02fecc9e61e53107a442d5fa979e427ee26cc87b1772b9b82291178301d0349a95a25f002289d46cddc1d14510243ff454f6a0213ade42551297fa5c6acd650a00d9cd3b6e2bb4213f2326bfd19469a11a8bb7e72f873a2f7f266bf175795343a1154e6e2cac7e8d7aba5d1a072bf1dae08a5d0203010001\n",
      "Recipient: 30819f300d06092a864886f70d010101050003818d0030818902818100b31484ceceee80cf1d7b0b5f6af61e6721f065a9d5a6ca3f437e29c41ac6b7c846547b329a6ba1680e4dc4c4dc1d2c5bb9b5864a0607a3c5bba1374d48f844e96b5f60fdab86cdfa76ef39f4254b4a2a900a97e4ede4799a38c2633c61b27ed1c3c6ae741ca72498f32cac5c3e7e3d64bd3c6bc19099055af6fda43440120e6f0203010001\n",
      "Value: 25.0\n",
      "Time: 2019-07-18 07:16:58.825305\n",
      "----------------------\n",
      "---------------------------\n",
      "==============================\n",
      "Block # 4\n",
      "Sender: 30819f300d06092a864886f70d010101050003818d00308189028181009e174a913f132c171fbf53771f02fecc9e61e53107a442d5fa979e427ee26cc87b1772b9b82291178301d0349a95a25f002289d46cddc1d14510243ff454f6a0213ade42551297fa5c6acd650a00d9cd3b6e2bb4213f2326bfd19469a11a8bb7e72f873a2f7f266bf175795343a1154e6e2cac7e8d7aba5d1a072bf1dae08a5d0203010001\n",
      "Recipient: 30819f300d06092a864886f70d010101050003818d0030818902818100b31484ceceee80cf1d7b0b5f6af61e6721f065a9d5a6ca3f437e29c41ac6b7c846547b329a6ba1680e4dc4c4dc1d2c5bb9b5864a0607a3c5bba1374d48f844e96b5f60fdab86cdfa76ef39f4254b4a2a900a97e4ede4799a38c2633c61b27ed1c3c6ae741ca72498f32cac5c3e7e3d64bd3c6bc19099055af6fda43440120e6f0203010001\n",
      "Value: 25.0\n",
      "Time: 2019-07-18 07:16:58.825305\n",
      "----------------------\n",
      "---------------------------\n",
      "Sender: 30819f300d06092a864886f70d010101050003818d00308189028181009e174a913f132c171fbf53771f02fecc9e61e53107a442d5fa979e427ee26cc87b1772b9b82291178301d0349a95a25f002289d46cddc1d14510243ff454f6a0213ade42551297fa5c6acd650a00d9cd3b6e2bb4213f2326bfd19469a11a8bb7e72f873a2f7f266bf175795343a1154e6e2cac7e8d7aba5d1a072bf1dae08a5d0203010001\n",
      "Recipient: 30819f300d06092a864886f70d010101050003818d0030818902818100a473c00d5084fd9c30143f2f411f612642f93f8932c9df8252c7eadcde62c1f7965ffb44c8862750f93cd46b96be81d4850071be1199c0823e3ad921b246ba54bdb2517ca03611e51b33536cf499f4cead2b0c0a052fe4f16df8a7f2f8f4cd2e0926603f8b3d0d2669d2e16ce6c3ce4457a0a8f88bc20937682edca909524c650203010001\n",
      "Value: 9.0\n",
      "Time: 2019-07-18 07:16:58.828760\n",
      "----------------------\n",
      "---------------------------\n",
      "Sender: 30819f300d06092a864886f70d010101050003818d0030818902818100a473c00d5084fd9c30143f2f411f612642f93f8932c9df8252c7eadcde62c1f7965ffb44c8862750f93cd46b96be81d4850071be1199c0823e3ad921b246ba54bdb2517ca03611e51b33536cf499f4cead2b0c0a052fe4f16df8a7f2f8f4cd2e0926603f8b3d0d2669d2e16ce6c3ce4457a0a8f88bc20937682edca909524c650203010001\n",
      "Recipient: 30819f300d06092a864886f70d010101050003818d0030818902818100f531da91cd68da6cb5338cc28df104cd5ec7cb546ce8d29e02258e729c412174de866d4063e0ff9a5e0b37b844e1d1072b2dac7db8f2bcdd8e5905d828b80bc1f4e624f53f40b56d847309cb88788f19819d53bf4cbc944943388fec0797eddf01c4dd72c83b02e7b9325132d3befed7ef0871135b9bf02cb79e90736264f3e90203010001\n",
      "Value: 13.0\n",
      "Time: 2019-07-18 07:16:58.832820\n",
      "----------------------\n",
      "---------------------------\n",
      "==============================\n"
     ]
    }
   ],
   "source": [
    "show_blockchain(Cybercoin)"
   ]
  },
  {
   "cell_type": "markdown",
   "metadata": {},
   "source": [
    "### Creating a function so we can add a block easier"
   ]
  },
  {
   "cell_type": "code",
   "execution_count": 85,
   "metadata": {},
   "outputs": [],
   "source": [
    "def add_block(block,size,index,last_block_hash):\n",
    "    last_transaction_index = index\n",
    "    for i in range(size):\n",
    "        temp = transaction_queue[last_transaction_index]\n",
    "        block.verified_transactions.append(temp)\n",
    "        last_transaction_index += 1\n",
    "    block.previous_block_hash = last_block_hash\n",
    "    block.Nonce = mine(block,5)\n",
    "    digest = hash(block)\n",
    "    Cybercoin.append(block)\n",
    "    last_block_hash = digest\n",
    "    show_blockchain(Cybercoin)    \n",
    "        \n",
    "        "
   ]
  },
  {
   "cell_type": "code",
   "execution_count": 84,
   "metadata": {},
   "outputs": [
    {
     "name": "stdout",
     "output_type": "stream",
     "text": [
      "Found Nonce: 11b9a7864abd1e736ff1b48fb0abd34aa16e365e4d13b3b28a620c3065135474, after 1282 iterations.\n",
      "Numer of blocks in the chain: 8\n",
      "Block # 0\n",
      "Sender: Genesis\n",
      "Recipient: 30819f300d06092a864886f70d010101050003818d0030818902818100c09c39752809943457c1cf4c6af15aae73f05efd416a52dc24442f410513a1c634a7688eb6cd3203dfd7a12ec82f97b021696fa181ff58cdc9680eb5f30b3582984097ef18fc181ef6d2009faad9557fea363951af2395109539070a9fbf538a591df8e96ed234a59ad360ae658d83cef14f40433bac8e41af0367c2e8b18db50203010001\n",
      "Value: 1000.0\n",
      "Time: 2019-07-17 20:28:40.018259\n",
      "----------------------\n",
      "---------------------------\n",
      "==============================\n",
      "Block # 1\n",
      "Sender: 30819f300d06092a864886f70d010101050003818d0030818902818100f531da91cd68da6cb5338cc28df104cd5ec7cb546ce8d29e02258e729c412174de866d4063e0ff9a5e0b37b844e1d1072b2dac7db8f2bcdd8e5905d828b80bc1f4e624f53f40b56d847309cb88788f19819d53bf4cbc944943388fec0797eddf01c4dd72c83b02e7b9325132d3befed7ef0871135b9bf02cb79e90736264f3e90203010001\n",
      "Recipient: 30819f300d06092a864886f70d010101050003818d0030818902818100b31484ceceee80cf1d7b0b5f6af61e6721f065a9d5a6ca3f437e29c41ac6b7c846547b329a6ba1680e4dc4c4dc1d2c5bb9b5864a0607a3c5bba1374d48f844e96b5f60fdab86cdfa76ef39f4254b4a2a900a97e4ede4799a38c2633c61b27ed1c3c6ae741ca72498f32cac5c3e7e3d64bd3c6bc19099055af6fda43440120e6f0203010001\n",
      "Value: 15.0\n",
      "Time: 2019-07-17 20:19:43.554336\n",
      "----------------------\n",
      "---------------------------\n",
      "Sender: 30819f300d06092a864886f70d010101050003818d0030818902818100b31484ceceee80cf1d7b0b5f6af61e6721f065a9d5a6ca3f437e29c41ac6b7c846547b329a6ba1680e4dc4c4dc1d2c5bb9b5864a0607a3c5bba1374d48f844e96b5f60fdab86cdfa76ef39f4254b4a2a900a97e4ede4799a38c2633c61b27ed1c3c6ae741ca72498f32cac5c3e7e3d64bd3c6bc19099055af6fda43440120e6f0203010001\n",
      "Recipient: 30819f300d06092a864886f70d010101050003818d00308189028181009e174a913f132c171fbf53771f02fecc9e61e53107a442d5fa979e427ee26cc87b1772b9b82291178301d0349a95a25f002289d46cddc1d14510243ff454f6a0213ade42551297fa5c6acd650a00d9cd3b6e2bb4213f2326bfd19469a11a8bb7e72f873a2f7f266bf175795343a1154e6e2cac7e8d7aba5d1a072bf1dae08a5d0203010001\n",
      "Value: 10.0\n",
      "Time: 2019-07-17 20:19:43.557089\n",
      "----------------------\n",
      "---------------------------\n",
      "Sender: 30819f300d06092a864886f70d010101050003818d00308189028181009e174a913f132c171fbf53771f02fecc9e61e53107a442d5fa979e427ee26cc87b1772b9b82291178301d0349a95a25f002289d46cddc1d14510243ff454f6a0213ade42551297fa5c6acd650a00d9cd3b6e2bb4213f2326bfd19469a11a8bb7e72f873a2f7f266bf175795343a1154e6e2cac7e8d7aba5d1a072bf1dae08a5d0203010001\n",
      "Recipient: 30819f300d06092a864886f70d010101050003818d0030818902818100a473c00d5084fd9c30143f2f411f612642f93f8932c9df8252c7eadcde62c1f7965ffb44c8862750f93cd46b96be81d4850071be1199c0823e3ad921b246ba54bdb2517ca03611e51b33536cf499f4cead2b0c0a052fe4f16df8a7f2f8f4cd2e0926603f8b3d0d2669d2e16ce6c3ce4457a0a8f88bc20937682edca909524c650203010001\n",
      "Value: 5.0\n",
      "Time: 2019-07-17 20:19:43.559854\n",
      "----------------------\n",
      "---------------------------\n",
      "Sender: 30819f300d06092a864886f70d010101050003818d00308189028181009e174a913f132c171fbf53771f02fecc9e61e53107a442d5fa979e427ee26cc87b1772b9b82291178301d0349a95a25f002289d46cddc1d14510243ff454f6a0213ade42551297fa5c6acd650a00d9cd3b6e2bb4213f2326bfd19469a11a8bb7e72f873a2f7f266bf175795343a1154e6e2cac7e8d7aba5d1a072bf1dae08a5d0203010001\n",
      "Recipient: 30819f300d06092a864886f70d010101050003818d0030818902818100a473c00d5084fd9c30143f2f411f612642f93f8932c9df8252c7eadcde62c1f7965ffb44c8862750f93cd46b96be81d4850071be1199c0823e3ad921b246ba54bdb2517ca03611e51b33536cf499f4cead2b0c0a052fe4f16df8a7f2f8f4cd2e0926603f8b3d0d2669d2e16ce6c3ce4457a0a8f88bc20937682edca909524c650203010001\n",
      "Value: 5.0\n",
      "Time: 2019-07-17 20:19:43.559854\n",
      "----------------------\n",
      "---------------------------\n",
      "Sender: 30819f300d06092a864886f70d010101050003818d00308189028181009e174a913f132c171fbf53771f02fecc9e61e53107a442d5fa979e427ee26cc87b1772b9b82291178301d0349a95a25f002289d46cddc1d14510243ff454f6a0213ade42551297fa5c6acd650a00d9cd3b6e2bb4213f2326bfd19469a11a8bb7e72f873a2f7f266bf175795343a1154e6e2cac7e8d7aba5d1a072bf1dae08a5d0203010001\n",
      "Recipient: 30819f300d06092a864886f70d010101050003818d0030818902818100a473c00d5084fd9c30143f2f411f612642f93f8932c9df8252c7eadcde62c1f7965ffb44c8862750f93cd46b96be81d4850071be1199c0823e3ad921b246ba54bdb2517ca03611e51b33536cf499f4cead2b0c0a052fe4f16df8a7f2f8f4cd2e0926603f8b3d0d2669d2e16ce6c3ce4457a0a8f88bc20937682edca909524c650203010001\n",
      "Value: 5.0\n",
      "Time: 2019-07-17 20:19:43.559854\n",
      "----------------------\n",
      "---------------------------\n",
      "Sender: 30819f300d06092a864886f70d010101050003818d00308189028181009e174a913f132c171fbf53771f02fecc9e61e53107a442d5fa979e427ee26cc87b1772b9b82291178301d0349a95a25f002289d46cddc1d14510243ff454f6a0213ade42551297fa5c6acd650a00d9cd3b6e2bb4213f2326bfd19469a11a8bb7e72f873a2f7f266bf175795343a1154e6e2cac7e8d7aba5d1a072bf1dae08a5d0203010001\n",
      "Recipient: 30819f300d06092a864886f70d010101050003818d0030818902818100a473c00d5084fd9c30143f2f411f612642f93f8932c9df8252c7eadcde62c1f7965ffb44c8862750f93cd46b96be81d4850071be1199c0823e3ad921b246ba54bdb2517ca03611e51b33536cf499f4cead2b0c0a052fe4f16df8a7f2f8f4cd2e0926603f8b3d0d2669d2e16ce6c3ce4457a0a8f88bc20937682edca909524c650203010001\n",
      "Value: 5.0\n",
      "Time: 2019-07-17 20:19:43.559854\n",
      "----------------------\n",
      "---------------------------\n",
      "Sender: 30819f300d06092a864886f70d010101050003818d0030818902818100a473c00d5084fd9c30143f2f411f612642f93f8932c9df8252c7eadcde62c1f7965ffb44c8862750f93cd46b96be81d4850071be1199c0823e3ad921b246ba54bdb2517ca03611e51b33536cf499f4cead2b0c0a052fe4f16df8a7f2f8f4cd2e0926603f8b3d0d2669d2e16ce6c3ce4457a0a8f88bc20937682edca909524c650203010001\n",
      "Recipient: 30819f300d06092a864886f70d010101050003818d0030818902818100f531da91cd68da6cb5338cc28df104cd5ec7cb546ce8d29e02258e729c412174de866d4063e0ff9a5e0b37b844e1d1072b2dac7db8f2bcdd8e5905d828b80bc1f4e624f53f40b56d847309cb88788f19819d53bf4cbc944943388fec0797eddf01c4dd72c83b02e7b9325132d3befed7ef0871135b9bf02cb79e90736264f3e90203010001\n",
      "Value: 13.0\n",
      "Time: 2019-07-18 07:16:58.832820\n",
      "----------------------\n",
      "---------------------------\n",
      "==============================\n",
      "Block # 2\n",
      "==============================\n",
      "Block # 3\n",
      "Sender: 30819f300d06092a864886f70d010101050003818d00308189028181009e174a913f132c171fbf53771f02fecc9e61e53107a442d5fa979e427ee26cc87b1772b9b82291178301d0349a95a25f002289d46cddc1d14510243ff454f6a0213ade42551297fa5c6acd650a00d9cd3b6e2bb4213f2326bfd19469a11a8bb7e72f873a2f7f266bf175795343a1154e6e2cac7e8d7aba5d1a072bf1dae08a5d0203010001\n",
      "Recipient: 30819f300d06092a864886f70d010101050003818d0030818902818100b31484ceceee80cf1d7b0b5f6af61e6721f065a9d5a6ca3f437e29c41ac6b7c846547b329a6ba1680e4dc4c4dc1d2c5bb9b5864a0607a3c5bba1374d48f844e96b5f60fdab86cdfa76ef39f4254b4a2a900a97e4ede4799a38c2633c61b27ed1c3c6ae741ca72498f32cac5c3e7e3d64bd3c6bc19099055af6fda43440120e6f0203010001\n",
      "Value: 25.0\n",
      "Time: 2019-07-18 07:16:58.825305\n",
      "----------------------\n",
      "---------------------------\n",
      "Sender: 30819f300d06092a864886f70d010101050003818d00308189028181009e174a913f132c171fbf53771f02fecc9e61e53107a442d5fa979e427ee26cc87b1772b9b82291178301d0349a95a25f002289d46cddc1d14510243ff454f6a0213ade42551297fa5c6acd650a00d9cd3b6e2bb4213f2326bfd19469a11a8bb7e72f873a2f7f266bf175795343a1154e6e2cac7e8d7aba5d1a072bf1dae08a5d0203010001\n",
      "Recipient: 30819f300d06092a864886f70d010101050003818d0030818902818100b31484ceceee80cf1d7b0b5f6af61e6721f065a9d5a6ca3f437e29c41ac6b7c846547b329a6ba1680e4dc4c4dc1d2c5bb9b5864a0607a3c5bba1374d48f844e96b5f60fdab86cdfa76ef39f4254b4a2a900a97e4ede4799a38c2633c61b27ed1c3c6ae741ca72498f32cac5c3e7e3d64bd3c6bc19099055af6fda43440120e6f0203010001\n",
      "Value: 25.0\n",
      "Time: 2019-07-18 07:16:58.825305\n",
      "----------------------\n",
      "---------------------------\n",
      "Sender: 30819f300d06092a864886f70d010101050003818d00308189028181009e174a913f132c171fbf53771f02fecc9e61e53107a442d5fa979e427ee26cc87b1772b9b82291178301d0349a95a25f002289d46cddc1d14510243ff454f6a0213ade42551297fa5c6acd650a00d9cd3b6e2bb4213f2326bfd19469a11a8bb7e72f873a2f7f266bf175795343a1154e6e2cac7e8d7aba5d1a072bf1dae08a5d0203010001\n",
      "Recipient: 30819f300d06092a864886f70d010101050003818d0030818902818100b31484ceceee80cf1d7b0b5f6af61e6721f065a9d5a6ca3f437e29c41ac6b7c846547b329a6ba1680e4dc4c4dc1d2c5bb9b5864a0607a3c5bba1374d48f844e96b5f60fdab86cdfa76ef39f4254b4a2a900a97e4ede4799a38c2633c61b27ed1c3c6ae741ca72498f32cac5c3e7e3d64bd3c6bc19099055af6fda43440120e6f0203010001\n",
      "Value: 25.0\n",
      "Time: 2019-07-18 07:16:58.825305\n",
      "----------------------\n",
      "---------------------------\n",
      "==============================\n",
      "Block # 4\n",
      "Sender: 30819f300d06092a864886f70d010101050003818d00308189028181009e174a913f132c171fbf53771f02fecc9e61e53107a442d5fa979e427ee26cc87b1772b9b82291178301d0349a95a25f002289d46cddc1d14510243ff454f6a0213ade42551297fa5c6acd650a00d9cd3b6e2bb4213f2326bfd19469a11a8bb7e72f873a2f7f266bf175795343a1154e6e2cac7e8d7aba5d1a072bf1dae08a5d0203010001\n",
      "Recipient: 30819f300d06092a864886f70d010101050003818d0030818902818100b31484ceceee80cf1d7b0b5f6af61e6721f065a9d5a6ca3f437e29c41ac6b7c846547b329a6ba1680e4dc4c4dc1d2c5bb9b5864a0607a3c5bba1374d48f844e96b5f60fdab86cdfa76ef39f4254b4a2a900a97e4ede4799a38c2633c61b27ed1c3c6ae741ca72498f32cac5c3e7e3d64bd3c6bc19099055af6fda43440120e6f0203010001\n",
      "Value: 25.0\n",
      "Time: 2019-07-18 07:16:58.825305\n",
      "----------------------\n",
      "---------------------------\n",
      "Sender: 30819f300d06092a864886f70d010101050003818d00308189028181009e174a913f132c171fbf53771f02fecc9e61e53107a442d5fa979e427ee26cc87b1772b9b82291178301d0349a95a25f002289d46cddc1d14510243ff454f6a0213ade42551297fa5c6acd650a00d9cd3b6e2bb4213f2326bfd19469a11a8bb7e72f873a2f7f266bf175795343a1154e6e2cac7e8d7aba5d1a072bf1dae08a5d0203010001\n",
      "Recipient: 30819f300d06092a864886f70d010101050003818d0030818902818100a473c00d5084fd9c30143f2f411f612642f93f8932c9df8252c7eadcde62c1f7965ffb44c8862750f93cd46b96be81d4850071be1199c0823e3ad921b246ba54bdb2517ca03611e51b33536cf499f4cead2b0c0a052fe4f16df8a7f2f8f4cd2e0926603f8b3d0d2669d2e16ce6c3ce4457a0a8f88bc20937682edca909524c650203010001\n",
      "Value: 9.0\n",
      "Time: 2019-07-18 07:16:58.828760\n",
      "----------------------\n",
      "---------------------------\n",
      "Sender: 30819f300d06092a864886f70d010101050003818d0030818902818100a473c00d5084fd9c30143f2f411f612642f93f8932c9df8252c7eadcde62c1f7965ffb44c8862750f93cd46b96be81d4850071be1199c0823e3ad921b246ba54bdb2517ca03611e51b33536cf499f4cead2b0c0a052fe4f16df8a7f2f8f4cd2e0926603f8b3d0d2669d2e16ce6c3ce4457a0a8f88bc20937682edca909524c650203010001\n",
      "Recipient: 30819f300d06092a864886f70d010101050003818d0030818902818100f531da91cd68da6cb5338cc28df104cd5ec7cb546ce8d29e02258e729c412174de866d4063e0ff9a5e0b37b844e1d1072b2dac7db8f2bcdd8e5905d828b80bc1f4e624f53f40b56d847309cb88788f19819d53bf4cbc944943388fec0797eddf01c4dd72c83b02e7b9325132d3befed7ef0871135b9bf02cb79e90736264f3e90203010001\n",
      "Value: 13.0\n",
      "Time: 2019-07-18 07:16:58.832820\n",
      "----------------------\n",
      "---------------------------\n",
      "==============================\n",
      "Block # 5\n",
      "Sender: 30819f300d06092a864886f70d010101050003818d0030818902818100f531da91cd68da6cb5338cc28df104cd5ec7cb546ce8d29e02258e729c412174de866d4063e0ff9a5e0b37b844e1d1072b2dac7db8f2bcdd8e5905d828b80bc1f4e624f53f40b56d847309cb88788f19819d53bf4cbc944943388fec0797eddf01c4dd72c83b02e7b9325132d3befed7ef0871135b9bf02cb79e90736264f3e90203010001\n",
      "Recipient: 30819f300d06092a864886f70d010101050003818d0030818902818100a473c00d5084fd9c30143f2f411f612642f93f8932c9df8252c7eadcde62c1f7965ffb44c8862750f93cd46b96be81d4850071be1199c0823e3ad921b246ba54bdb2517ca03611e51b33536cf499f4cead2b0c0a052fe4f16df8a7f2f8f4cd2e0926603f8b3d0d2669d2e16ce6c3ce4457a0a8f88bc20937682edca909524c650203010001\n",
      "Value: 1.0\n",
      "Time: 2019-07-18 07:41:39.755303\n",
      "----------------------\n",
      "---------------------------\n",
      "==============================\n",
      "Block # 6\n",
      "Sender: 30819f300d06092a864886f70d010101050003818d0030818902818100f531da91cd68da6cb5338cc28df104cd5ec7cb546ce8d29e02258e729c412174de866d4063e0ff9a5e0b37b844e1d1072b2dac7db8f2bcdd8e5905d828b80bc1f4e624f53f40b56d847309cb88788f19819d53bf4cbc944943388fec0797eddf01c4dd72c83b02e7b9325132d3befed7ef0871135b9bf02cb79e90736264f3e90203010001\n",
      "Recipient: 30819f300d06092a864886f70d010101050003818d0030818902818100a473c00d5084fd9c30143f2f411f612642f93f8932c9df8252c7eadcde62c1f7965ffb44c8862750f93cd46b96be81d4850071be1199c0823e3ad921b246ba54bdb2517ca03611e51b33536cf499f4cead2b0c0a052fe4f16df8a7f2f8f4cd2e0926603f8b3d0d2669d2e16ce6c3ce4457a0a8f88bc20937682edca909524c650203010001\n",
      "Value: 1.0\n",
      "Time: 2019-07-18 07:41:39.755303\n",
      "----------------------\n",
      "---------------------------\n",
      "==============================\n",
      "Block # 7\n",
      "Sender: 30819f300d06092a864886f70d010101050003818d0030818902818100f531da91cd68da6cb5338cc28df104cd5ec7cb546ce8d29e02258e729c412174de866d4063e0ff9a5e0b37b844e1d1072b2dac7db8f2bcdd8e5905d828b80bc1f4e624f53f40b56d847309cb88788f19819d53bf4cbc944943388fec0797eddf01c4dd72c83b02e7b9325132d3befed7ef0871135b9bf02cb79e90736264f3e90203010001\n",
      "Recipient: 30819f300d06092a864886f70d010101050003818d0030818902818100a473c00d5084fd9c30143f2f411f612642f93f8932c9df8252c7eadcde62c1f7965ffb44c8862750f93cd46b96be81d4850071be1199c0823e3ad921b246ba54bdb2517ca03611e51b33536cf499f4cead2b0c0a052fe4f16df8a7f2f8f4cd2e0926603f8b3d0d2669d2e16ce6c3ce4457a0a8f88bc20937682edca909524c650203010001\n",
      "Value: 1.0\n",
      "Time: 2019-07-18 07:41:39.755303\n",
      "----------------------\n",
      "---------------------------\n",
      "==============================\n"
     ]
    }
   ],
   "source": [
    "t8 = Transaction(alan,ada.identity,1.0)\n",
    "t8.sign_transaction()\n",
    "transaction_queue.append(t8)\n",
    "block = Block()\n",
    "#display_all(transaction_queue)\n",
    "add_block(block,1,8,last_block_hash)"
   ]
  },
  {
   "cell_type": "markdown",
   "metadata": {},
   "source": [
    "### Transaction lifecycle example"
   ]
  },
  {
   "cell_type": "code",
   "execution_count": 88,
   "metadata": {},
   "outputs": [
    {
     "name": "stdout",
     "output_type": "stream",
     "text": [
      "Found Nonce: 11111bf3e0989a0d7e47b1e1a6212df39b2fcdd766a0210ea32a5da5de69ce32, after 3128298 iterations.\n",
      "Numer of blocks in the chain: 9\n",
      "Block # 0\n",
      "Sender: Genesis\n",
      "Recipient: 30819f300d06092a864886f70d010101050003818d0030818902818100c09c39752809943457c1cf4c6af15aae73f05efd416a52dc24442f410513a1c634a7688eb6cd3203dfd7a12ec82f97b021696fa181ff58cdc9680eb5f30b3582984097ef18fc181ef6d2009faad9557fea363951af2395109539070a9fbf538a591df8e96ed234a59ad360ae658d83cef14f40433bac8e41af0367c2e8b18db50203010001\n",
      "Value: 1000.0\n",
      "Time: 2019-07-17 20:28:40.018259\n",
      "----------------------\n",
      "---------------------------\n",
      "==============================\n",
      "Block # 1\n",
      "Sender: 30819f300d06092a864886f70d010101050003818d0030818902818100f531da91cd68da6cb5338cc28df104cd5ec7cb546ce8d29e02258e729c412174de866d4063e0ff9a5e0b37b844e1d1072b2dac7db8f2bcdd8e5905d828b80bc1f4e624f53f40b56d847309cb88788f19819d53bf4cbc944943388fec0797eddf01c4dd72c83b02e7b9325132d3befed7ef0871135b9bf02cb79e90736264f3e90203010001\n",
      "Recipient: 30819f300d06092a864886f70d010101050003818d0030818902818100b31484ceceee80cf1d7b0b5f6af61e6721f065a9d5a6ca3f437e29c41ac6b7c846547b329a6ba1680e4dc4c4dc1d2c5bb9b5864a0607a3c5bba1374d48f844e96b5f60fdab86cdfa76ef39f4254b4a2a900a97e4ede4799a38c2633c61b27ed1c3c6ae741ca72498f32cac5c3e7e3d64bd3c6bc19099055af6fda43440120e6f0203010001\n",
      "Value: 15.0\n",
      "Time: 2019-07-17 20:19:43.554336\n",
      "----------------------\n",
      "---------------------------\n",
      "Sender: 30819f300d06092a864886f70d010101050003818d0030818902818100b31484ceceee80cf1d7b0b5f6af61e6721f065a9d5a6ca3f437e29c41ac6b7c846547b329a6ba1680e4dc4c4dc1d2c5bb9b5864a0607a3c5bba1374d48f844e96b5f60fdab86cdfa76ef39f4254b4a2a900a97e4ede4799a38c2633c61b27ed1c3c6ae741ca72498f32cac5c3e7e3d64bd3c6bc19099055af6fda43440120e6f0203010001\n",
      "Recipient: 30819f300d06092a864886f70d010101050003818d00308189028181009e174a913f132c171fbf53771f02fecc9e61e53107a442d5fa979e427ee26cc87b1772b9b82291178301d0349a95a25f002289d46cddc1d14510243ff454f6a0213ade42551297fa5c6acd650a00d9cd3b6e2bb4213f2326bfd19469a11a8bb7e72f873a2f7f266bf175795343a1154e6e2cac7e8d7aba5d1a072bf1dae08a5d0203010001\n",
      "Value: 10.0\n",
      "Time: 2019-07-17 20:19:43.557089\n",
      "----------------------\n",
      "---------------------------\n",
      "Sender: 30819f300d06092a864886f70d010101050003818d00308189028181009e174a913f132c171fbf53771f02fecc9e61e53107a442d5fa979e427ee26cc87b1772b9b82291178301d0349a95a25f002289d46cddc1d14510243ff454f6a0213ade42551297fa5c6acd650a00d9cd3b6e2bb4213f2326bfd19469a11a8bb7e72f873a2f7f266bf175795343a1154e6e2cac7e8d7aba5d1a072bf1dae08a5d0203010001\n",
      "Recipient: 30819f300d06092a864886f70d010101050003818d0030818902818100a473c00d5084fd9c30143f2f411f612642f93f8932c9df8252c7eadcde62c1f7965ffb44c8862750f93cd46b96be81d4850071be1199c0823e3ad921b246ba54bdb2517ca03611e51b33536cf499f4cead2b0c0a052fe4f16df8a7f2f8f4cd2e0926603f8b3d0d2669d2e16ce6c3ce4457a0a8f88bc20937682edca909524c650203010001\n",
      "Value: 5.0\n",
      "Time: 2019-07-17 20:19:43.559854\n",
      "----------------------\n",
      "---------------------------\n",
      "Sender: 30819f300d06092a864886f70d010101050003818d00308189028181009e174a913f132c171fbf53771f02fecc9e61e53107a442d5fa979e427ee26cc87b1772b9b82291178301d0349a95a25f002289d46cddc1d14510243ff454f6a0213ade42551297fa5c6acd650a00d9cd3b6e2bb4213f2326bfd19469a11a8bb7e72f873a2f7f266bf175795343a1154e6e2cac7e8d7aba5d1a072bf1dae08a5d0203010001\n",
      "Recipient: 30819f300d06092a864886f70d010101050003818d0030818902818100a473c00d5084fd9c30143f2f411f612642f93f8932c9df8252c7eadcde62c1f7965ffb44c8862750f93cd46b96be81d4850071be1199c0823e3ad921b246ba54bdb2517ca03611e51b33536cf499f4cead2b0c0a052fe4f16df8a7f2f8f4cd2e0926603f8b3d0d2669d2e16ce6c3ce4457a0a8f88bc20937682edca909524c650203010001\n",
      "Value: 5.0\n",
      "Time: 2019-07-17 20:19:43.559854\n",
      "----------------------\n",
      "---------------------------\n",
      "Sender: 30819f300d06092a864886f70d010101050003818d00308189028181009e174a913f132c171fbf53771f02fecc9e61e53107a442d5fa979e427ee26cc87b1772b9b82291178301d0349a95a25f002289d46cddc1d14510243ff454f6a0213ade42551297fa5c6acd650a00d9cd3b6e2bb4213f2326bfd19469a11a8bb7e72f873a2f7f266bf175795343a1154e6e2cac7e8d7aba5d1a072bf1dae08a5d0203010001\n",
      "Recipient: 30819f300d06092a864886f70d010101050003818d0030818902818100a473c00d5084fd9c30143f2f411f612642f93f8932c9df8252c7eadcde62c1f7965ffb44c8862750f93cd46b96be81d4850071be1199c0823e3ad921b246ba54bdb2517ca03611e51b33536cf499f4cead2b0c0a052fe4f16df8a7f2f8f4cd2e0926603f8b3d0d2669d2e16ce6c3ce4457a0a8f88bc20937682edca909524c650203010001\n",
      "Value: 5.0\n",
      "Time: 2019-07-17 20:19:43.559854\n",
      "----------------------\n",
      "---------------------------\n",
      "Sender: 30819f300d06092a864886f70d010101050003818d00308189028181009e174a913f132c171fbf53771f02fecc9e61e53107a442d5fa979e427ee26cc87b1772b9b82291178301d0349a95a25f002289d46cddc1d14510243ff454f6a0213ade42551297fa5c6acd650a00d9cd3b6e2bb4213f2326bfd19469a11a8bb7e72f873a2f7f266bf175795343a1154e6e2cac7e8d7aba5d1a072bf1dae08a5d0203010001\n",
      "Recipient: 30819f300d06092a864886f70d010101050003818d0030818902818100a473c00d5084fd9c30143f2f411f612642f93f8932c9df8252c7eadcde62c1f7965ffb44c8862750f93cd46b96be81d4850071be1199c0823e3ad921b246ba54bdb2517ca03611e51b33536cf499f4cead2b0c0a052fe4f16df8a7f2f8f4cd2e0926603f8b3d0d2669d2e16ce6c3ce4457a0a8f88bc20937682edca909524c650203010001\n",
      "Value: 5.0\n",
      "Time: 2019-07-17 20:19:43.559854\n",
      "----------------------\n",
      "---------------------------\n",
      "Sender: 30819f300d06092a864886f70d010101050003818d0030818902818100a473c00d5084fd9c30143f2f411f612642f93f8932c9df8252c7eadcde62c1f7965ffb44c8862750f93cd46b96be81d4850071be1199c0823e3ad921b246ba54bdb2517ca03611e51b33536cf499f4cead2b0c0a052fe4f16df8a7f2f8f4cd2e0926603f8b3d0d2669d2e16ce6c3ce4457a0a8f88bc20937682edca909524c650203010001\n",
      "Recipient: 30819f300d06092a864886f70d010101050003818d0030818902818100f531da91cd68da6cb5338cc28df104cd5ec7cb546ce8d29e02258e729c412174de866d4063e0ff9a5e0b37b844e1d1072b2dac7db8f2bcdd8e5905d828b80bc1f4e624f53f40b56d847309cb88788f19819d53bf4cbc944943388fec0797eddf01c4dd72c83b02e7b9325132d3befed7ef0871135b9bf02cb79e90736264f3e90203010001\n",
      "Value: 13.0\n",
      "Time: 2019-07-18 07:16:58.832820\n",
      "----------------------\n",
      "---------------------------\n",
      "==============================\n",
      "Block # 2\n",
      "==============================\n",
      "Block # 3\n",
      "Sender: 30819f300d06092a864886f70d010101050003818d00308189028181009e174a913f132c171fbf53771f02fecc9e61e53107a442d5fa979e427ee26cc87b1772b9b82291178301d0349a95a25f002289d46cddc1d14510243ff454f6a0213ade42551297fa5c6acd650a00d9cd3b6e2bb4213f2326bfd19469a11a8bb7e72f873a2f7f266bf175795343a1154e6e2cac7e8d7aba5d1a072bf1dae08a5d0203010001\n",
      "Recipient: 30819f300d06092a864886f70d010101050003818d0030818902818100b31484ceceee80cf1d7b0b5f6af61e6721f065a9d5a6ca3f437e29c41ac6b7c846547b329a6ba1680e4dc4c4dc1d2c5bb9b5864a0607a3c5bba1374d48f844e96b5f60fdab86cdfa76ef39f4254b4a2a900a97e4ede4799a38c2633c61b27ed1c3c6ae741ca72498f32cac5c3e7e3d64bd3c6bc19099055af6fda43440120e6f0203010001\n",
      "Value: 25.0\n",
      "Time: 2019-07-18 07:16:58.825305\n",
      "----------------------\n",
      "---------------------------\n",
      "Sender: 30819f300d06092a864886f70d010101050003818d00308189028181009e174a913f132c171fbf53771f02fecc9e61e53107a442d5fa979e427ee26cc87b1772b9b82291178301d0349a95a25f002289d46cddc1d14510243ff454f6a0213ade42551297fa5c6acd650a00d9cd3b6e2bb4213f2326bfd19469a11a8bb7e72f873a2f7f266bf175795343a1154e6e2cac7e8d7aba5d1a072bf1dae08a5d0203010001\n",
      "Recipient: 30819f300d06092a864886f70d010101050003818d0030818902818100b31484ceceee80cf1d7b0b5f6af61e6721f065a9d5a6ca3f437e29c41ac6b7c846547b329a6ba1680e4dc4c4dc1d2c5bb9b5864a0607a3c5bba1374d48f844e96b5f60fdab86cdfa76ef39f4254b4a2a900a97e4ede4799a38c2633c61b27ed1c3c6ae741ca72498f32cac5c3e7e3d64bd3c6bc19099055af6fda43440120e6f0203010001\n",
      "Value: 25.0\n",
      "Time: 2019-07-18 07:16:58.825305\n",
      "----------------------\n",
      "---------------------------\n",
      "Sender: 30819f300d06092a864886f70d010101050003818d00308189028181009e174a913f132c171fbf53771f02fecc9e61e53107a442d5fa979e427ee26cc87b1772b9b82291178301d0349a95a25f002289d46cddc1d14510243ff454f6a0213ade42551297fa5c6acd650a00d9cd3b6e2bb4213f2326bfd19469a11a8bb7e72f873a2f7f266bf175795343a1154e6e2cac7e8d7aba5d1a072bf1dae08a5d0203010001\n",
      "Recipient: 30819f300d06092a864886f70d010101050003818d0030818902818100b31484ceceee80cf1d7b0b5f6af61e6721f065a9d5a6ca3f437e29c41ac6b7c846547b329a6ba1680e4dc4c4dc1d2c5bb9b5864a0607a3c5bba1374d48f844e96b5f60fdab86cdfa76ef39f4254b4a2a900a97e4ede4799a38c2633c61b27ed1c3c6ae741ca72498f32cac5c3e7e3d64bd3c6bc19099055af6fda43440120e6f0203010001\n",
      "Value: 25.0\n",
      "Time: 2019-07-18 07:16:58.825305\n",
      "----------------------\n",
      "---------------------------\n",
      "==============================\n",
      "Block # 4\n",
      "Sender: 30819f300d06092a864886f70d010101050003818d00308189028181009e174a913f132c171fbf53771f02fecc9e61e53107a442d5fa979e427ee26cc87b1772b9b82291178301d0349a95a25f002289d46cddc1d14510243ff454f6a0213ade42551297fa5c6acd650a00d9cd3b6e2bb4213f2326bfd19469a11a8bb7e72f873a2f7f266bf175795343a1154e6e2cac7e8d7aba5d1a072bf1dae08a5d0203010001\n",
      "Recipient: 30819f300d06092a864886f70d010101050003818d0030818902818100b31484ceceee80cf1d7b0b5f6af61e6721f065a9d5a6ca3f437e29c41ac6b7c846547b329a6ba1680e4dc4c4dc1d2c5bb9b5864a0607a3c5bba1374d48f844e96b5f60fdab86cdfa76ef39f4254b4a2a900a97e4ede4799a38c2633c61b27ed1c3c6ae741ca72498f32cac5c3e7e3d64bd3c6bc19099055af6fda43440120e6f0203010001\n",
      "Value: 25.0\n",
      "Time: 2019-07-18 07:16:58.825305\n",
      "----------------------\n",
      "---------------------------\n",
      "Sender: 30819f300d06092a864886f70d010101050003818d00308189028181009e174a913f132c171fbf53771f02fecc9e61e53107a442d5fa979e427ee26cc87b1772b9b82291178301d0349a95a25f002289d46cddc1d14510243ff454f6a0213ade42551297fa5c6acd650a00d9cd3b6e2bb4213f2326bfd19469a11a8bb7e72f873a2f7f266bf175795343a1154e6e2cac7e8d7aba5d1a072bf1dae08a5d0203010001\n",
      "Recipient: 30819f300d06092a864886f70d010101050003818d0030818902818100a473c00d5084fd9c30143f2f411f612642f93f8932c9df8252c7eadcde62c1f7965ffb44c8862750f93cd46b96be81d4850071be1199c0823e3ad921b246ba54bdb2517ca03611e51b33536cf499f4cead2b0c0a052fe4f16df8a7f2f8f4cd2e0926603f8b3d0d2669d2e16ce6c3ce4457a0a8f88bc20937682edca909524c650203010001\n",
      "Value: 9.0\n",
      "Time: 2019-07-18 07:16:58.828760\n",
      "----------------------\n",
      "---------------------------\n",
      "Sender: 30819f300d06092a864886f70d010101050003818d0030818902818100a473c00d5084fd9c30143f2f411f612642f93f8932c9df8252c7eadcde62c1f7965ffb44c8862750f93cd46b96be81d4850071be1199c0823e3ad921b246ba54bdb2517ca03611e51b33536cf499f4cead2b0c0a052fe4f16df8a7f2f8f4cd2e0926603f8b3d0d2669d2e16ce6c3ce4457a0a8f88bc20937682edca909524c650203010001\n",
      "Recipient: 30819f300d06092a864886f70d010101050003818d0030818902818100f531da91cd68da6cb5338cc28df104cd5ec7cb546ce8d29e02258e729c412174de866d4063e0ff9a5e0b37b844e1d1072b2dac7db8f2bcdd8e5905d828b80bc1f4e624f53f40b56d847309cb88788f19819d53bf4cbc944943388fec0797eddf01c4dd72c83b02e7b9325132d3befed7ef0871135b9bf02cb79e90736264f3e90203010001\n",
      "Value: 13.0\n",
      "Time: 2019-07-18 07:16:58.832820\n",
      "----------------------\n",
      "---------------------------\n",
      "==============================\n",
      "Block # 5\n",
      "Sender: 30819f300d06092a864886f70d010101050003818d0030818902818100f531da91cd68da6cb5338cc28df104cd5ec7cb546ce8d29e02258e729c412174de866d4063e0ff9a5e0b37b844e1d1072b2dac7db8f2bcdd8e5905d828b80bc1f4e624f53f40b56d847309cb88788f19819d53bf4cbc944943388fec0797eddf01c4dd72c83b02e7b9325132d3befed7ef0871135b9bf02cb79e90736264f3e90203010001\n",
      "Recipient: 30819f300d06092a864886f70d010101050003818d0030818902818100a473c00d5084fd9c30143f2f411f612642f93f8932c9df8252c7eadcde62c1f7965ffb44c8862750f93cd46b96be81d4850071be1199c0823e3ad921b246ba54bdb2517ca03611e51b33536cf499f4cead2b0c0a052fe4f16df8a7f2f8f4cd2e0926603f8b3d0d2669d2e16ce6c3ce4457a0a8f88bc20937682edca909524c650203010001\n",
      "Value: 1.0\n",
      "Time: 2019-07-18 07:41:39.755303\n",
      "----------------------\n",
      "---------------------------\n",
      "==============================\n",
      "Block # 6\n",
      "Sender: 30819f300d06092a864886f70d010101050003818d0030818902818100f531da91cd68da6cb5338cc28df104cd5ec7cb546ce8d29e02258e729c412174de866d4063e0ff9a5e0b37b844e1d1072b2dac7db8f2bcdd8e5905d828b80bc1f4e624f53f40b56d847309cb88788f19819d53bf4cbc944943388fec0797eddf01c4dd72c83b02e7b9325132d3befed7ef0871135b9bf02cb79e90736264f3e90203010001\n",
      "Recipient: 30819f300d06092a864886f70d010101050003818d0030818902818100a473c00d5084fd9c30143f2f411f612642f93f8932c9df8252c7eadcde62c1f7965ffb44c8862750f93cd46b96be81d4850071be1199c0823e3ad921b246ba54bdb2517ca03611e51b33536cf499f4cead2b0c0a052fe4f16df8a7f2f8f4cd2e0926603f8b3d0d2669d2e16ce6c3ce4457a0a8f88bc20937682edca909524c650203010001\n",
      "Value: 1.0\n",
      "Time: 2019-07-18 07:41:39.755303\n",
      "----------------------\n",
      "---------------------------\n",
      "==============================\n",
      "Block # 7\n",
      "Sender: 30819f300d06092a864886f70d010101050003818d0030818902818100f531da91cd68da6cb5338cc28df104cd5ec7cb546ce8d29e02258e729c412174de866d4063e0ff9a5e0b37b844e1d1072b2dac7db8f2bcdd8e5905d828b80bc1f4e624f53f40b56d847309cb88788f19819d53bf4cbc944943388fec0797eddf01c4dd72c83b02e7b9325132d3befed7ef0871135b9bf02cb79e90736264f3e90203010001\n",
      "Recipient: 30819f300d06092a864886f70d010101050003818d0030818902818100a473c00d5084fd9c30143f2f411f612642f93f8932c9df8252c7eadcde62c1f7965ffb44c8862750f93cd46b96be81d4850071be1199c0823e3ad921b246ba54bdb2517ca03611e51b33536cf499f4cead2b0c0a052fe4f16df8a7f2f8f4cd2e0926603f8b3d0d2669d2e16ce6c3ce4457a0a8f88bc20937682edca909524c650203010001\n",
      "Value: 1.0\n",
      "Time: 2019-07-18 07:41:39.755303\n",
      "----------------------\n",
      "---------------------------\n",
      "==============================\n",
      "Block # 8\n",
      "Sender: 30819f300d06092a864886f70d010101050003818d0030818902818100ab2ea463aed5e1c56ecee19422a9de82af16caae1ffa0fb2db93c290ce234af2940e65fe9acd978f537ae9670a02e1af1d6b5f5dfa5802df80b1d9c2d5186bde7fc9a74a37bef19557d291e52184fdb105cdb0d3822904ae874570b47336ec0f43cdcb4b331e463c88ecc8b34610cd298311953f5d7d4dd80e5001e6a3eea02f0203010001\n",
      "Recipient: 30819f300d06092a864886f70d010101050003818d0030818902818100d891162c7ae9333d25c377341fc5ec5abc6ed784a6e0f79a07c9b5a31305e91157896b1da68188a0bf97735f51ac1b74ac53e678c9ac94ff31765d6a3a228f203a26f2ef18e9c8ca1ec4d49f75a806a171b877366a343e9ae2050bef90668c216cd2db470258abe3da2c634cc8893c209aa5233504a4be0f8e57f6d7602801bb0203010001\n",
      "Value: 4\n",
      "Time: 2019-07-18 07:53:04.736387\n",
      "----------------------\n",
      "---------------------------\n",
      "==============================\n"
     ]
    }
   ],
   "source": [
    "cristian = Client()\n",
    "sebastian = Client()\n",
    "t9 = Transaction(cristian,sebastian.identity,4)\n",
    "t9.sign_transaction()\n",
    "transaction_queue.append(t9)\n",
    "new_block = Block()\n",
    "add_block(new_block,1,-1,last_block_hash)"
   ]
  }
 ],
 "metadata": {
  "kernelspec": {
   "display_name": "python3.7",
   "language": "python",
   "name": "python3.7"
  },
  "language_info": {
   "codemirror_mode": {
    "name": "ipython",
    "version": 3
   },
   "file_extension": ".py",
   "mimetype": "text/x-python",
   "name": "python",
   "nbconvert_exporter": "python",
   "pygments_lexer": "ipython3",
   "version": "3.7.3"
  }
 },
 "nbformat": 4,
 "nbformat_minor": 2
}
